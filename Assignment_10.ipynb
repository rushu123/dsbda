{
  "cells": [
    {
      "cell_type": "code",
      "execution_count": null,
      "id": "b0d1ec25",
      "metadata": {
        "id": "b0d1ec25"
      },
      "outputs": [],
      "source": [
        "import pandas as pd\n",
        "import seaborn as sns"
      ]
    },
    {
      "cell_type": "code",
      "execution_count": null,
      "id": "36bc7cef",
      "metadata": {
        "id": "36bc7cef",
        "outputId": "4907a25d-4f51-45e7-e9c2-d23c6e91139c"
      },
      "outputs": [
        {
          "data": {
            "text/html": [
              "<div>\n",
              "<style scoped>\n",
              "    .dataframe tbody tr th:only-of-type {\n",
              "        vertical-align: middle;\n",
              "    }\n",
              "\n",
              "    .dataframe tbody tr th {\n",
              "        vertical-align: top;\n",
              "    }\n",
              "\n",
              "    .dataframe thead th {\n",
              "        text-align: right;\n",
              "    }\n",
              "</style>\n",
              "<table border=\"1\" class=\"dataframe\">\n",
              "  <thead>\n",
              "    <tr style=\"text-align: right;\">\n",
              "      <th></th>\n",
              "      <th>sepal_length</th>\n",
              "      <th>sepal_width</th>\n",
              "      <th>petal_length</th>\n",
              "      <th>petal_width</th>\n",
              "      <th>species</th>\n",
              "    </tr>\n",
              "  </thead>\n",
              "  <tbody>\n",
              "    <tr>\n",
              "      <th>0</th>\n",
              "      <td>5.1</td>\n",
              "      <td>3.5</td>\n",
              "      <td>1.4</td>\n",
              "      <td>0.2</td>\n",
              "      <td>setosa</td>\n",
              "    </tr>\n",
              "    <tr>\n",
              "      <th>1</th>\n",
              "      <td>4.9</td>\n",
              "      <td>3.0</td>\n",
              "      <td>1.4</td>\n",
              "      <td>0.2</td>\n",
              "      <td>setosa</td>\n",
              "    </tr>\n",
              "    <tr>\n",
              "      <th>2</th>\n",
              "      <td>4.7</td>\n",
              "      <td>3.2</td>\n",
              "      <td>1.3</td>\n",
              "      <td>0.2</td>\n",
              "      <td>setosa</td>\n",
              "    </tr>\n",
              "    <tr>\n",
              "      <th>3</th>\n",
              "      <td>4.6</td>\n",
              "      <td>3.1</td>\n",
              "      <td>1.5</td>\n",
              "      <td>0.2</td>\n",
              "      <td>setosa</td>\n",
              "    </tr>\n",
              "    <tr>\n",
              "      <th>4</th>\n",
              "      <td>5.0</td>\n",
              "      <td>3.6</td>\n",
              "      <td>1.4</td>\n",
              "      <td>0.2</td>\n",
              "      <td>setosa</td>\n",
              "    </tr>\n",
              "    <tr>\n",
              "      <th>...</th>\n",
              "      <td>...</td>\n",
              "      <td>...</td>\n",
              "      <td>...</td>\n",
              "      <td>...</td>\n",
              "      <td>...</td>\n",
              "    </tr>\n",
              "    <tr>\n",
              "      <th>145</th>\n",
              "      <td>6.7</td>\n",
              "      <td>3.0</td>\n",
              "      <td>5.2</td>\n",
              "      <td>2.3</td>\n",
              "      <td>virginica</td>\n",
              "    </tr>\n",
              "    <tr>\n",
              "      <th>146</th>\n",
              "      <td>6.3</td>\n",
              "      <td>2.5</td>\n",
              "      <td>5.0</td>\n",
              "      <td>1.9</td>\n",
              "      <td>virginica</td>\n",
              "    </tr>\n",
              "    <tr>\n",
              "      <th>147</th>\n",
              "      <td>6.5</td>\n",
              "      <td>3.0</td>\n",
              "      <td>5.2</td>\n",
              "      <td>2.0</td>\n",
              "      <td>virginica</td>\n",
              "    </tr>\n",
              "    <tr>\n",
              "      <th>148</th>\n",
              "      <td>6.2</td>\n",
              "      <td>3.4</td>\n",
              "      <td>5.4</td>\n",
              "      <td>2.3</td>\n",
              "      <td>virginica</td>\n",
              "    </tr>\n",
              "    <tr>\n",
              "      <th>149</th>\n",
              "      <td>5.9</td>\n",
              "      <td>3.0</td>\n",
              "      <td>5.1</td>\n",
              "      <td>1.8</td>\n",
              "      <td>virginica</td>\n",
              "    </tr>\n",
              "  </tbody>\n",
              "</table>\n",
              "<p>150 rows × 5 columns</p>\n",
              "</div>"
            ],
            "text/plain": [
              "     sepal_length  sepal_width  petal_length  petal_width    species\n",
              "0             5.1          3.5           1.4          0.2     setosa\n",
              "1             4.9          3.0           1.4          0.2     setosa\n",
              "2             4.7          3.2           1.3          0.2     setosa\n",
              "3             4.6          3.1           1.5          0.2     setosa\n",
              "4             5.0          3.6           1.4          0.2     setosa\n",
              "..            ...          ...           ...          ...        ...\n",
              "145           6.7          3.0           5.2          2.3  virginica\n",
              "146           6.3          2.5           5.0          1.9  virginica\n",
              "147           6.5          3.0           5.2          2.0  virginica\n",
              "148           6.2          3.4           5.4          2.3  virginica\n",
              "149           5.9          3.0           5.1          1.8  virginica\n",
              "\n",
              "[150 rows x 5 columns]"
            ]
          },
          "execution_count": 3,
          "metadata": {},
          "output_type": "execute_result"
        }
      ],
      "source": [
        "df = sns.load_dataset('iris')\n",
        "df"
      ]
    },
    {
      "cell_type": "code",
      "execution_count": null,
      "id": "3ce37d75",
      "metadata": {
        "id": "3ce37d75",
        "outputId": "d18938cc-104e-4955-f97d-a93e1331130e"
      },
      "outputs": [
        {
          "name": "stdout",
          "output_type": "stream",
          "text": [
            "<class 'pandas.core.frame.DataFrame'>\n",
            "RangeIndex: 150 entries, 0 to 149\n",
            "Data columns (total 5 columns):\n",
            " #   Column        Non-Null Count  Dtype  \n",
            "---  ------        --------------  -----  \n",
            " 0   sepal_length  150 non-null    float64\n",
            " 1   sepal_width   150 non-null    float64\n",
            " 2   petal_length  150 non-null    float64\n",
            " 3   petal_width   150 non-null    float64\n",
            " 4   species       150 non-null    object \n",
            "dtypes: float64(4), object(1)\n",
            "memory usage: 6.0+ KB\n"
          ]
        }
      ],
      "source": [
        "df.info()"
      ]
    },
    {
      "cell_type": "code",
      "execution_count": null,
      "id": "dfdc4d8a",
      "metadata": {
        "id": "dfdc4d8a",
        "outputId": "d7dd78aa-5e03-4bc4-c24c-04216efaf558"
      },
      "outputs": [
        {
          "data": {
            "text/plain": [
              "<AxesSubplot:ylabel='Count'>"
            ]
          },
          "execution_count": 12,
          "metadata": {},
          "output_type": "execute_result"
        },
        {
          "data": {
            "image/png": "[encoded data removed]",
            "text/plain": [
              "<Figure size 432x288 with 1 Axes>"
            ]
          },
          "metadata": {
            "needs_background": "light"
          },
          "output_type": "display_data"
        }
      ],
      "source": [
        "# No need fro categorical data i.e. no 'x' and no 'y'\n",
        "sns.histplot(data=df)"
      ]
    },
    {
      "cell_type": "code",
      "execution_count": null,
      "id": "be378053",
      "metadata": {
        "id": "be378053",
        "outputId": "a3e3f0a0-2e6f-4f47-8196-05b4675a198c"
      },
      "outputs": [
        {
          "data": {
            "text/plain": [
              "array([[<AxesSubplot:title={'center':'sepal_length'}>,\n",
              "        <AxesSubplot:title={'center':'sepal_width'}>],\n",
              "       [<AxesSubplot:title={'center':'petal_length'}>,\n",
              "        <AxesSubplot:title={'center':'petal_width'}>]], dtype=object)"
            ]
          },
          "execution_count": 13,
          "metadata": {},
          "output_type": "execute_result"
        },
        {
          "data": {
            "image/png": "[encoded data removed]",
            "text/plain": [
              "<Figure size 432x288 with 4 Axes>"
            ]
          },
          "metadata": {
            "needs_background": "light"
          },
          "output_type": "display_data"
        }
      ],
      "source": [
        "df.hist()"
      ]
    },
    {
      "cell_type": "code",
      "execution_count": null,
      "id": "5508f7cd",
      "metadata": {
        "id": "5508f7cd",
        "outputId": "29a745ef-26cc-4cc6-e2ec-f5d32ddf2d75"
      },
      "outputs": [
        {
          "data": {
            "text/plain": [
              "<AxesSubplot:xlabel='species', ylabel='sepal_length'>"
            ]
          },
          "execution_count": 14,
          "metadata": {},
          "output_type": "execute_result"
        },
        {
          "data": {
            "image/png": "[encoded data removed]",
            "text/plain": [
              "<Figure size 432x288 with 1 Axes>"
            ]
          },
          "metadata": {
            "needs_background": "light"
          },
          "output_type": "display_data"
        }
      ],
      "source": [
        "sns.boxplot(x='species', y='sepal_length', data=df)"
      ]
    },
    {
      "cell_type": "code",
      "execution_count": null,
      "id": "5a31343d",
      "metadata": {
        "id": "5a31343d",
        "outputId": "7c39ac90-3498-4259-ffcf-33e71e8f4d90"
      },
      "outputs": [
        {
          "data": {
            "text/plain": [
              "<AxesSubplot:xlabel='species', ylabel='sepal_width'>"
            ]
          },
          "execution_count": 15,
          "metadata": {},
          "output_type": "execute_result"
        },
        {
          "data": {
            "image/png": "[encoded data removed]",
            "text/plain": [
              "<Figure size 432x288 with 1 Axes>"
            ]
          },
          "metadata": {
            "needs_background": "light"
          },
          "output_type": "display_data"
        }
      ],
      "source": [
        "sns.boxplot(x='species', y='sepal_width', data=df)"
      ]
    },
    {
      "cell_type": "code",
      "execution_count": null,
      "id": "5de2bbe4",
      "metadata": {
        "id": "5de2bbe4",
        "outputId": "6ec3ecfb-2b12-423f-bd70-51f4f4d8f666"
      },
      "outputs": [
        {
          "data": {
            "text/plain": [
              "<AxesSubplot:xlabel='species', ylabel='petal_length'>"
            ]
          },
          "execution_count": 16,
          "metadata": {},
          "output_type": "execute_result"
        },
        {
          "data": {
            "image/png": "[encoded data removed]",
            "text/plain": [
              "<Figure size 432x288 with 1 Axes>"
            ]
          },
          "metadata": {
            "needs_background": "light"
          },
          "output_type": "display_data"
        }
      ],
      "source": [
        "sns.boxplot(x='species', y='petal_length', data=df)"
      ]
    },
    {
      "cell_type": "code",
      "execution_count": null,
      "id": "af289cef",
      "metadata": {
        "id": "af289cef",
        "outputId": "b046e7df-244b-4c83-b301-ad00cfe6bbe3"
      },
      "outputs": [
        {
          "data": {
            "text/plain": [
              "<AxesSubplot:xlabel='species', ylabel='petal_width'>"
            ]
          },
          "execution_count": 17,
          "metadata": {},
          "output_type": "execute_result"
        },
        {
          "data": {
            "image/png": "[encoded data removed]",
            "text/plain": [
              "<Figure size 432x288 with 1 Axes>"
            ]
          },
          "metadata": {
            "needs_background": "light"
          },
          "output_type": "display_data"
        }
      ],
      "source": [
        "sns.boxplot(x='species', y='petal_width', data=df)"
      ]
    },
    {
      "cell_type": "code",
      "execution_count": null,
      "id": "79982a92",
      "metadata": {
        "id": "79982a92"
      },
      "outputs": [],
      "source": [
        "def fun(x):\n",
        "    upper_fence = q3(x) + (iqr(x)*1.5)\n",
        "    lower_fence = q1(x) - (iqr(x)*1.5)\n",
        "    outliers = []\n",
        "    for i in x:\n",
        "        if ((i>upper_fence) or (i<lower_fence)):\n",
        "            outliers.append(i)\n",
        "\n",
        "    print(outliers)\n",
        "\n",
        "def q3(x):\n",
        "    return x.quantile(0.75)\n",
        "\n",
        "def q1(x):\n",
        "    return x.quantile(0.25)\n",
        "\n",
        "def iqr(x):\n",
        "    a=q3(x)\n",
        "    b=q1(x)\n",
        "    return a-b"
      ]
    },
    {
      "cell_type": "code",
      "execution_count": null,
      "id": "92c03b28",
      "metadata": {
        "id": "92c03b28",
        "outputId": "8cb0f7e8-1b50-4d52-faa6-06439e5a697e"
      },
      "outputs": [
        {
          "name": "stdout",
          "output_type": "stream",
          "text": [
            "[4.9]\n"
          ]
        }
      ],
      "source": [
        "# Testing the function\n",
        "t = df[df['species']=='virginica']\n",
        "# t\n",
        "r = t['sepal_length']\n",
        "# r\n",
        "fun(r)"
      ]
    },
    {
      "cell_type": "code",
      "execution_count": null,
      "id": "3a91c16a",
      "metadata": {
        "id": "3a91c16a",
        "outputId": "c146bc65-06d7-4559-c8d8-a1e60c7b66b8"
      },
      "outputs": [
        {
          "name": "stdout",
          "output_type": "stream",
          "text": [
            "\n",
            "setosa species :\n",
            "sepal_length arguement\n",
            "[]\n",
            "sepal_width arguement\n",
            "[4.4, 2.3]\n",
            "petal_length arguement\n",
            "[1.1, 1.0, 1.9, 1.9]\n",
            "petal_width arguement\n",
            "[0.5, 0.6]\n",
            "\n",
            "versicolor species :\n",
            "sepal_length arguement\n",
            "[]\n",
            "sepal_width arguement\n",
            "[]\n",
            "petal_length arguement\n",
            "[3.0]\n",
            "petal_width arguement\n",
            "[]\n",
            "\n",
            "virginica species :\n",
            "sepal_length arguement\n",
            "[4.9]\n",
            "sepal_width arguement\n",
            "[3.8, 2.2, 3.8]\n",
            "petal_length arguement\n",
            "[]\n",
            "petal_width arguement\n",
            "[]\n"
          ]
        }
      ],
      "source": [
        "for i in df['species'].unique():\n",
        "    print(\"\\n\"+i+\" species :\")\n",
        "    for j in ['sepal_length','sepal_width','petal_length','petal_width']:\n",
        "        print(j+\" arguement\")\n",
        "        t = df[df['species']==i]\n",
        "        r = t[j]\n",
        "        fun(r)"
      ]
    }
  ],
  "metadata": {
    "kernelspec": {
      "display_name": "Python 3 (ipykernel)",
      "language": "python",
      "name": "python3"
    },
    "language_info": {
      "codemirror_mode": {
        "name": "ipython",
        "version": 3
      },
      "file_extension": ".py",
      "mimetype": "text/x-python",
      "name": "python",
      "nbconvert_exporter": "python",
      "pygments_lexer": "ipython3",
      "version": "3.9.12"
    },
    "colab": {
      "provenance": []
    }
  },
  "nbformat": 4,
  "nbformat_minor": 5
}